{
  "nbformat": 4,
  "nbformat_minor": 0,
  "metadata": {
    "colab": {
      "provenance": [],
      "collapsed_sections": []
    },
    "kernelspec": {
      "name": "python3",
      "display_name": "Python 3"
    },
    "language_info": {
      "name": "python"
    }
  },
  "cells": [
    {
      "cell_type": "code",
      "execution_count": null,
      "metadata": {
        "id": "jSUNPxW79MYU"
      },
      "outputs": [],
      "source": [
        "import os\n",
        "# Find the latest version of spark 3.0 from http://www.apache.org/dist/spark/ and enter as the spark version\n",
        "# For example:\n",
        "# spark_version = 'spark-3.0.3'\n",
        "spark_version = 'spark-3.0.3'\n",
        "os.environ['SPARK_VERSION']=spark_version\n",
        "\n",
        "# Install Spark and Java\n",
        "!apt-get update\n",
        "!apt-get install openjdk-11-jdk-headless -qq > /dev/null\n",
        "!wget -q http://www.apache.org/dist/spark/$SPARK_VERSION/$SPARK_VERSION-bin-hadoop2.7.tgz\n",
        "!tar xf $SPARK_VERSION-bin-hadoop2.7.tgz\n",
        "!pip install -q findspark\n",
        "\n",
        "# Set Environment Variables\n",
        "import os\n",
        "os.environ[\"JAVA_HOME\"] = \"/usr/lib/jvm/java-11-openjdk-amd64\"\n",
        "os.environ[\"SPARK_HOME\"] = f\"/content/{spark_version}-bin-hadoop2.7\"\n",
        "\n",
        "# Start a SparkSession\n",
        "import findspark\n",
        "findspark.init()"
      ]
    },
    {
      "cell_type": "code",
      "source": [
        "from pyspark.sql import SparkSession\n",
        "spark = SparkSession.builder.appName(\"Vine_Review_Analysis\").config(\"spark.driver.extraClassPath\",\"/content/postgresql-42.2.16.jar\").getOrCreate()\n"
      ],
      "metadata": {
        "id": "-A_3trRR9Qux"
      },
      "execution_count": null,
      "outputs": []
    },
    {
      "cell_type": "code",
      "source": [
        "from pyspark import SparkFiles\n",
        "url = \"https://s3.amazonaws.com/amazon-reviews-pds/tsv/amazon_reviews_us_Watches_v1_00.tsv.gz\"\n",
        "spark.sparkContext.addFile(url)\n",
        "df = spark.read.option(\"encoding\", \"UTF-8\").csv(SparkFiles.get(\"amazon_reviews_us_Outdoors_v1_00.tsv.gz\"), sep=\"\\t\", header=True, inferSchema=True)\n",
        "df.show()"
      ],
      "metadata": {
        "id": "fPADo-4s9Q4Z"
      },
      "execution_count": null,
      "outputs": []
    },
    {
      "cell_type": "code",
      "source": [
        "# Create the vine_table. DataFrame\n",
        "vine_table = df.select(['review_id', 'star_rating', 'helpful_votes', 'total_votes', 'vine', 'verified_purchase'])\n",
        "vine_table.show()"
      ],
      "metadata": {
        "id": "0MJjNHEq9Q6w"
      },
      "execution_count": null,
      "outputs": []
    },
    {
      "cell_type": "code",
      "source": [
        "# Filter the data and create a new DataFrame or table to retrieve all the rows  where the total_votes count is equal to or greater than 20 to pick reviews that\n",
        "\n",
        "\n",
        "total_votes_20_df = vine_table.filter('total_votes > 20')\n",
        "total_votes_20_df.count()"
      ],
      "metadata": {
        "id": "0nUOnYyL9Q81"
      },
      "execution_count": null,
      "outputs": []
    },
    {
      "cell_type": "code",
      "source": [
        "# Filter the data for helpful_votes/total_votes is >= 50%\n",
        "helpful_votes_50plus_df = total_votes_20plus_df.filter(col(\"helpful_votes\")/col(\"total_votes\") >= .50)\n",
        "helpful_votes_50plus_df.show(5)"
      ],
      "metadata": {
        "id": "FnkJgSlu9Q-7"
      },
      "execution_count": null,
      "outputs": []
    },
    {
      "cell_type": "code",
      "source": [
        "# Filter for data where a review was written as part of the Vine program\n",
        "paid_vine_df = helpful_votes_50plus_df.filter(col(\"vine\") == 'Y')\n",
        "paid_vine_df.show()"
      ],
      "metadata": {
        "id": "U2w6HXj49RBA"
      },
      "execution_count": null,
      "outputs": []
    },
    {
      "cell_type": "code",
      "source": [
        "# Filter for data where a review was not part of the Vine program\n",
        "unpaid_vine_df = helpful_votes_50plus_df.filter(col(\"vine\") == 'N')\n",
        "unpaid_vine_df.show(5)"
      ],
      "metadata": {
        "id": "R348xjpA9RDX"
      },
      "execution_count": null,
      "outputs": []
    },
    {
      "cell_type": "code",
      "source": [
        "# Finding total # of review paid\n",
        "paid_vine_df.count()"
      ],
      "metadata": {
        "id": "jufGw_Qf9RFc"
      },
      "execution_count": null,
      "outputs": []
    },
    {
      "cell_type": "code",
      "source": [
        "# Finding total # of 5-star reviews paid\n",
        "paid_star_rating_df = paid_vine_df.filter(col(\"star_rating\") == 5)\n",
        "paid_star_rating_df.count()"
      ],
      "metadata": {
        "id": "WTb-mLwt9RHx"
      },
      "execution_count": null,
      "outputs": []
    },
    {
      "cell_type": "code",
      "source": [
        "# Finding total # of 5-star reviews unpaid\n",
        "unpaid_star_rating_df = unpaid_vine_df.filter(col(\"star_rating\") == 5)\n",
        "unpaid_star_rating_df.count()"
      ],
      "metadata": {
        "id": "sIPcB5qR9RJ4"
      },
      "execution_count": null,
      "outputs": []
    },
    {
      "cell_type": "code",
      "source": [
        "\n",
        "631\n",
        "# Finding percentage of 5-star reviews unpaid\n",
        "percent_unpaid = (unpaid_star_rating_df.count()/unpaid_vine_df.count())*100\n",
        "print(\"The Percent of 5 Star reviews for unpaid Vine program was: %f\" % percent_unpaid + \"%\")"
      ],
      "metadata": {
        "id": "diO8QUhp9RL9"
      },
      "execution_count": null,
      "outputs": []
    },
    {
      "cell_type": "code",
      "source": [],
      "metadata": {
        "id": "dYY3vV7G9ROU"
      },
      "execution_count": null,
      "outputs": []
    },
    {
      "cell_type": "code",
      "source": [],
      "metadata": {
        "id": "YboCQe8A9RQa"
      },
      "execution_count": null,
      "outputs": []
    },
    {
      "cell_type": "code",
      "source": [],
      "metadata": {
        "id": "F40tWEhX9RSx"
      },
      "execution_count": null,
      "outputs": []
    }
  ]
}